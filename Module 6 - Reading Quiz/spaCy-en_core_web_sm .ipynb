{
 "cells": [
  {
   "cell_type": "code",
   "execution_count": 1,
   "id": "af723234",
   "metadata": {},
   "outputs": [],
   "source": [
    "import spacy\n",
    "nlp = spacy.load(\"en_core_web_sm\")"
   ]
  },
  {
   "cell_type": "code",
   "execution_count": 17,
   "id": "43fe4fab",
   "metadata": {},
   "outputs": [],
   "source": [
    "text_an=\"\"\"Some folks like to get away\n",
    "Take a holiday from the neighbourhood\n",
    "Hop a flight to Miami Beach\n",
    "Or to Hollywood\n",
    "But I'm taking a Greyhound\n",
    "On the Hudson River Line\n",
    "I'm in a New York state of mind\"\"\""
   ]
  },
  {
   "cell_type": "code",
   "execution_count": 18,
   "id": "3d8e044b",
   "metadata": {},
   "outputs": [],
   "source": [
    "doc = nlp(text_an)"
   ]
  },
  {
   "cell_type": "code",
   "execution_count": 19,
   "id": "88df09a4",
   "metadata": {},
   "outputs": [
    {
     "name": "stdout",
     "output_type": "stream",
     "text": [
      "Miami Beach 82 93 GPE\n",
      "Hollywood 100 109 GPE\n",
      "Greyhound 127 136 NORP\n",
      "the Hudson River Line 140 161 FAC\n",
      "New York 171 179 GPE\n"
     ]
    }
   ],
   "source": [
    "#4. How many distinct named entities does the software identify?\n",
    "\n",
    "for ent in doc.ents:\n",
    "    print(ent.text, ent.start_char, ent.end_char, ent.label_)"
   ]
  },
  {
   "cell_type": "code",
   "execution_count": 21,
   "id": "3bd7836a",
   "metadata": {},
   "outputs": [
    {
     "name": "stdout",
     "output_type": "stream",
     "text": [
      "Some DET det\n",
      "folks NOUN nsubj\n",
      "like VERB ROOT\n",
      "to PART aux\n",
      "get VERB xcomp\n",
      "away ADV advmod\n",
      "\n",
      " SPACE nsubj\n",
      "Take VERB ccomp\n",
      "a DET det\n",
      "holiday NOUN dobj\n",
      "from ADP prep\n",
      "the DET det\n",
      "neighbourhood NOUN compound\n",
      "\n",
      " SPACE pobj\n",
      "Hop VERB appos\n",
      "a DET det\n",
      "flight NOUN dobj\n",
      "to ADP prep\n",
      "Miami PROPN compound\n",
      "Beach PROPN compound\n",
      "\n",
      " SPACE pobj\n",
      "Or CCONJ cc\n",
      "to ADP prep\n",
      "Hollywood PROPN pobj\n",
      "\n",
      " SPACE punct\n",
      "But CCONJ cc\n",
      "I PRON nsubj\n",
      "'m AUX aux\n",
      "taking VERB ccomp\n",
      "a DET det\n",
      "Greyhound PROPN compound\n",
      "\n",
      " SPACE dobj\n",
      "On ADP prep\n",
      "the DET det\n",
      "Hudson PROPN compound\n",
      "River PROPN compound\n",
      "Line PROPN compound\n",
      "\n",
      " SPACE pobj\n",
      "I PRON nsubj\n",
      "'m VERB ROOT\n",
      "in ADP prep\n",
      "a DET det\n",
      "New PROPN compound\n",
      "York PROPN compound\n",
      "state NOUN pobj\n",
      "of ADP prep\n",
      "mind NOUN pobj\n"
     ]
    }
   ],
   "source": [
    "for token in doc:\n",
    "    print(token.text, token.pos_, token.dep_)"
   ]
  },
  {
   "cell_type": "code",
   "execution_count": null,
   "id": "74c7e8dd",
   "metadata": {},
   "outputs": [],
   "source": []
  }
 ],
 "metadata": {
  "kernelspec": {
   "display_name": "Python 3 (ipykernel)",
   "language": "python",
   "name": "python3"
  },
  "language_info": {
   "codemirror_mode": {
    "name": "ipython",
    "version": 3
   },
   "file_extension": ".py",
   "mimetype": "text/x-python",
   "name": "python",
   "nbconvert_exporter": "python",
   "pygments_lexer": "ipython3",
   "version": "3.8.12"
  }
 },
 "nbformat": 4,
 "nbformat_minor": 5
}
