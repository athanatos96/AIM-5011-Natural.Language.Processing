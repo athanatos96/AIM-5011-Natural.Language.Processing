{
 "cells": [
  {
   "cell_type": "code",
   "execution_count": 1,
   "id": "099663c9",
   "metadata": {},
   "outputs": [
    {
     "name": "stdout",
     "output_type": "stream",
     "text": [
      "Requirement already satisfied: nltk in d:\\users\\alex\\anaconda3\\lib\\site-packages (3.6.1)\n",
      "Requirement already satisfied: regex in d:\\users\\alex\\anaconda3\\lib\\site-packages (from nltk) (2021.4.4)\n",
      "Requirement already satisfied: tqdm in d:\\users\\alex\\anaconda3\\lib\\site-packages (from nltk) (4.62.2)\n",
      "Requirement already satisfied: joblib in d:\\users\\alex\\anaconda3\\lib\\site-packages (from nltk) (1.0.1)\n",
      "Requirement already satisfied: click in d:\\users\\alex\\anaconda3\\lib\\site-packages (from nltk) (8.0.1)\n",
      "Requirement already satisfied: colorama in d:\\users\\alex\\anaconda3\\lib\\site-packages (from click->nltk) (0.4.4)\n",
      "(S\n",
      "  (NP I)\n",
      "  (VP\n",
      "    (VP (V shot) (NP (Det an) (N elephant)))\n",
      "    (PP (P in) (NP (Det my) (N pajamas)))))\n",
      "(S\n",
      "  (NP I)\n",
      "  (VP\n",
      "    (V shot)\n",
      "    (NP (Det an) (N elephant) (PP (P in) (NP (Det my) (N pajamas))))))\n"
     ]
    }
   ],
   "source": [
    "!pip install nltk\n",
    "import nltk\n",
    "import os\n",
    "from nltk import CFG\n",
    "from nltk.parse.corenlp import CoreNLPServer\n",
    "from nltk.parse.corenlp  import CoreNLPParser\n",
    "from nltk.parse.corenlp import CoreNLPDependencyParser\n",
    "\n",
    "groucho_grammar = nltk.CFG.fromstring(\"\"\"\n",
    "\n",
    "     S -> NP VP\n",
    "     PP -> P NP\n",
    "     NP -> Det N | Det N PP | 'I'\n",
    "     VP -> V NP | VP PP\n",
    "     Det -> 'an' | 'my'\n",
    "     N -> 'elephant' | 'pajamas'\n",
    "     V -> 'shot'\n",
    "     P -> 'in'     \"\"\")\n",
    "\n",
    "  \n",
    "\n",
    "sent = ['I', 'shot', 'an', 'elephant', 'in', 'my', 'pajamas']\n",
    "parser = nltk.ChartParser(groucho_grammar)\n",
    "for tree in parser.parse(sent):\n",
    " print(tree)"
   ]
  },
  {
   "cell_type": "code",
   "execution_count": null,
   "id": "bda45ad3",
   "metadata": {},
   "outputs": [],
   "source": []
  }
 ],
 "metadata": {
  "kernelspec": {
   "display_name": "Python 3 (ipykernel)",
   "language": "python",
   "name": "python3"
  },
  "language_info": {
   "codemirror_mode": {
    "name": "ipython",
    "version": 3
   },
   "file_extension": ".py",
   "mimetype": "text/x-python",
   "name": "python",
   "nbconvert_exporter": "python",
   "pygments_lexer": "ipython3",
   "version": "3.8.12"
  }
 },
 "nbformat": 4,
 "nbformat_minor": 5
}
