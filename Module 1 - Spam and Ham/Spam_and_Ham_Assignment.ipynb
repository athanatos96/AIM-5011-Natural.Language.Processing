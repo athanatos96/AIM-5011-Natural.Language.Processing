{
 "cells": [
  {
   "cell_type": "markdown",
   "id": "db0bfa44",
   "metadata": {},
   "source": [
    "Author: Alejandro C Parra Garcia"
   ]
  },
  {
   "cell_type": "code",
   "execution_count": 1,
   "id": "6d7ab05b",
   "metadata": {},
   "outputs": [],
   "source": [
    "#Import the libraries\n",
    "import numpy as np\n",
    "import matplotlib.pyplot as plt\n",
    "import pandas as pd\n",
    "import nltk\n",
    "from nltk.corpus import stopwords\n",
    "from nltk.stem import SnowballStemmer\n",
    "import tarfile\n",
    "from bs4 import BeautifulSoup\n",
    "import re\n",
    "import string"
   ]
  },
  {
   "cell_type": "markdown",
   "id": "253c37e1",
   "metadata": {},
   "source": [
    "Lets import the emails"
   ]
  },
  {
   "cell_type": "code",
   "execution_count": 2,
   "id": "3c3a8004",
   "metadata": {},
   "outputs": [],
   "source": [
    "#Change the path to the Location of the files\n",
    "path=\"D:\\\\Personal\\\\Alex\\\\Uni\\\\MS IA\\\\1 Curso\\\\FALL\\\\Natural Language Processing\\\\Module 1\\\\Assignments\\\\Corpus\""
   ]
  },
  {
   "cell_type": "code",
   "execution_count": 3,
   "id": "13678a8c",
   "metadata": {},
   "outputs": [],
   "source": [
    "tarfile_spam=tarfile.open(path+\"\\\\20030228_spam.tar.bz2\", mode='r:bz2')\n",
    "tarfile_spam_2=tarfile.open(path+\"\\\\20030228_spam_2.tar.bz2\", mode='r:bz2')\n",
    "tarfile_easy_ham=tarfile.open(path+\"\\\\20030228_easy_ham.tar.bz2\", mode='r:bz2')\n",
    "tarfile_easy_ham_2=tarfile.open(path+\"\\\\20030228_easy_ham_2.tar.bz2\", mode='r:bz2')\n",
    "tarfile_hard_ham=tarfile.open(path+\"\\\\20030228_hard_ham.tar.bz2\", mode='r:bz2')"
   ]
  },
  {
   "cell_type": "markdown",
   "id": "4299fe55",
   "metadata": {},
   "source": [
    "Let's create the dataframe"
   ]
  },
  {
   "cell_type": "code",
   "execution_count": 4,
   "id": "e7a466f5",
   "metadata": {},
   "outputs": [
    {
     "data": {
      "text/html": [
       "<div>\n",
       "<style scoped>\n",
       "    .dataframe tbody tr th:only-of-type {\n",
       "        vertical-align: middle;\n",
       "    }\n",
       "\n",
       "    .dataframe tbody tr th {\n",
       "        vertical-align: top;\n",
       "    }\n",
       "\n",
       "    .dataframe thead th {\n",
       "        text-align: right;\n",
       "    }\n",
       "</style>\n",
       "<table border=\"1\" class=\"dataframe\">\n",
       "  <thead>\n",
       "    <tr style=\"text-align: right;\">\n",
       "      <th></th>\n",
       "      <th>mail</th>\n",
       "      <th>spam</th>\n",
       "    </tr>\n",
       "  </thead>\n",
       "  <tbody>\n",
       "  </tbody>\n",
       "</table>\n",
       "</div>"
      ],
      "text/plain": [
       "Empty DataFrame\n",
       "Columns: [mail, spam]\n",
       "Index: []"
      ]
     },
     "execution_count": 4,
     "metadata": {},
     "output_type": "execute_result"
    }
   ],
   "source": [
    "df = pd.DataFrame(columns=['mail','spam'])\n",
    "df"
   ]
  },
  {
   "cell_type": "code",
   "execution_count": 5,
   "id": "76798de5",
   "metadata": {},
   "outputs": [],
   "source": [
    "def add_email_to_df(tarfile, spam):\n",
    "    global df\n",
    "    for elem in tarfile:\n",
    "        if (elem.isreg()): #Check if is a file\n",
    "            if(elem.name!=\"cmds\"):#Ignore the file cmds\n",
    "                f = tarfile.extractfile(elem)\n",
    "                try:\n",
    "                    mail=f.read().decode(\"utf-8\")\n",
    "                    df = df.append({'mail': mail, 'spam':spam}, ignore_index=True)\n",
    "                except UnicodeDecodeError:\n",
    "                    continue"
   ]
  },
  {
   "cell_type": "code",
   "execution_count": 6,
   "id": "5d9b2852",
   "metadata": {},
   "outputs": [
    {
     "data": {
      "text/html": [
       "<div>\n",
       "<style scoped>\n",
       "    .dataframe tbody tr th:only-of-type {\n",
       "        vertical-align: middle;\n",
       "    }\n",
       "\n",
       "    .dataframe tbody tr th {\n",
       "        vertical-align: top;\n",
       "    }\n",
       "\n",
       "    .dataframe thead th {\n",
       "        text-align: right;\n",
       "    }\n",
       "</style>\n",
       "<table border=\"1\" class=\"dataframe\">\n",
       "  <thead>\n",
       "    <tr style=\"text-align: right;\">\n",
       "      <th></th>\n",
       "      <th>mail</th>\n",
       "      <th>spam</th>\n",
       "    </tr>\n",
       "  </thead>\n",
       "  <tbody>\n",
       "    <tr>\n",
       "      <th>0</th>\n",
       "      <td>From 12a1mailbot1@web.de  Thu Aug 22 13:17:22 ...</td>\n",
       "      <td>1</td>\n",
       "    </tr>\n",
       "    <tr>\n",
       "      <th>1</th>\n",
       "      <td>From ilug-admin@linux.ie  Thu Aug 22 13:27:39 ...</td>\n",
       "      <td>1</td>\n",
       "    </tr>\n",
       "    <tr>\n",
       "      <th>2</th>\n",
       "      <td>From sabrina@mx3.1premio.com  Thu Aug 22 14:44...</td>\n",
       "      <td>1</td>\n",
       "    </tr>\n",
       "    <tr>\n",
       "      <th>3</th>\n",
       "      <td>From wsup@playful.com  Thu Aug 22 16:17:00 200...</td>\n",
       "      <td>1</td>\n",
       "    </tr>\n",
       "    <tr>\n",
       "      <th>4</th>\n",
       "      <td>From social-admin@linux.ie  Thu Aug 22 16:37:3...</td>\n",
       "      <td>1</td>\n",
       "    </tr>\n",
       "    <tr>\n",
       "      <th>...</th>\n",
       "      <td>...</td>\n",
       "      <td>...</td>\n",
       "    </tr>\n",
       "    <tr>\n",
       "      <th>5547</th>\n",
       "      <td>From tesco.ie@ctejmi.cjsias.bwmmxq.bounce.12hs...</td>\n",
       "      <td>0</td>\n",
       "    </tr>\n",
       "    <tr>\n",
       "      <th>5548</th>\n",
       "      <td>From senews-nov@euromailer.lists.apple.com  Th...</td>\n",
       "      <td>0</td>\n",
       "    </tr>\n",
       "    <tr>\n",
       "      <th>5549</th>\n",
       "      <td>From bounce-neatnettricks-2424157@silver.lyris...</td>\n",
       "      <td>0</td>\n",
       "    </tr>\n",
       "    <tr>\n",
       "      <th>5550</th>\n",
       "      <td>From sporadic@fuckedcompany.com  Wed Oct 30 21...</td>\n",
       "      <td>0</td>\n",
       "    </tr>\n",
       "    <tr>\n",
       "      <th>5551</th>\n",
       "      <td>Return-Path: &lt;iso17799@securityrisk.co.uk&gt;\\nRe...</td>\n",
       "      <td>0</td>\n",
       "    </tr>\n",
       "  </tbody>\n",
       "</table>\n",
       "<p>5552 rows × 2 columns</p>\n",
       "</div>"
      ],
      "text/plain": [
       "                                                   mail spam\n",
       "0     From 12a1mailbot1@web.de  Thu Aug 22 13:17:22 ...    1\n",
       "1     From ilug-admin@linux.ie  Thu Aug 22 13:27:39 ...    1\n",
       "2     From sabrina@mx3.1premio.com  Thu Aug 22 14:44...    1\n",
       "3     From wsup@playful.com  Thu Aug 22 16:17:00 200...    1\n",
       "4     From social-admin@linux.ie  Thu Aug 22 16:37:3...    1\n",
       "...                                                 ...  ...\n",
       "5547  From tesco.ie@ctejmi.cjsias.bwmmxq.bounce.12hs...    0\n",
       "5548  From senews-nov@euromailer.lists.apple.com  Th...    0\n",
       "5549  From bounce-neatnettricks-2424157@silver.lyris...    0\n",
       "5550  From sporadic@fuckedcompany.com  Wed Oct 30 21...    0\n",
       "5551  Return-Path: <iso17799@securityrisk.co.uk>\\nRe...    0\n",
       "\n",
       "[5552 rows x 2 columns]"
      ]
     },
     "execution_count": 6,
     "metadata": {},
     "output_type": "execute_result"
    }
   ],
   "source": [
    "add_email_to_df(tarfile_spam,1) #Spam\n",
    "add_email_to_df(tarfile_spam_2,1) #Spam\n",
    "add_email_to_df(tarfile_easy_ham,0) #Not Spam\n",
    "add_email_to_df(tarfile_easy_ham_2,0) #Not Spam\n",
    "add_email_to_df(tarfile_hard_ham,0) #Not Spam\n",
    "df"
   ]
  },
  {
   "cell_type": "code",
   "execution_count": 7,
   "id": "adb9f891",
   "metadata": {},
   "outputs": [
    {
     "name": "stdout",
     "output_type": "stream",
     "text": [
      "No empty values\n"
     ]
    },
    {
     "data": {
      "text/plain": [
       "(5552, 2)"
      ]
     },
     "execution_count": 7,
     "metadata": {},
     "output_type": "execute_result"
    }
   ],
   "source": [
    "#Check for empy values. And delete them\n",
    "if(df.isnull().values.any()==False):\n",
    "    print(\"No empty values\")\n",
    "else:\n",
    "    print(\"Empty values\")\n",
    "    df=df.dropna()\n",
    "\n",
    "df.shape"
   ]
  },
  {
   "cell_type": "code",
   "execution_count": 8,
   "id": "57ce813f",
   "metadata": {},
   "outputs": [
    {
     "name": "stderr",
     "output_type": "stream",
     "text": [
      "[nltk_data] Downloading package punkt to\n",
      "[nltk_data]     C:\\Users\\Alex\\AppData\\Roaming\\nltk_data...\n",
      "[nltk_data]   Package punkt is already up-to-date!\n",
      "[nltk_data] Downloading package stopwords to\n",
      "[nltk_data]     C:\\Users\\Alex\\AppData\\Roaming\\nltk_data...\n",
      "[nltk_data]   Package stopwords is already up-to-date!\n"
     ]
    },
    {
     "data": {
      "text/plain": [
       "True"
      ]
     },
     "execution_count": 8,
     "metadata": {},
     "output_type": "execute_result"
    }
   ],
   "source": [
    "#Download the spotwords\n",
    "nltk.download('punkt')\n",
    "nltk.download('stopwords')"
   ]
  },
  {
   "cell_type": "code",
   "execution_count": 9,
   "id": "efb5a7e3",
   "metadata": {},
   "outputs": [],
   "source": [
    "#Clean Up\n",
    "    #Convert HTML to txt\n",
    "    #Remove punctuation\n",
    "    #Lower Case\n",
    "def clean_up(mail):\n",
    "    if(mail.find('Content-Type: text/html')!=-1):\n",
    "        #Is HTML\n",
    "        #Convert HTML to Text\n",
    "        soup = BeautifulSoup(mail)\n",
    "        mail= soup.get_text() \n",
    "        #mail= re.sub(r'\\<.*?\\>','',mail)#Delete the <...>\n",
    "    \n",
    "    #Remove Punctuation\n",
    "    mail= re.sub(r'\\W',' ',mail)\n",
    "    \n",
    "    #Lower Case\n",
    "    mail=mail.lower()\n",
    "    \n",
    "    return (mail)"
   ]
  },
  {
   "cell_type": "code",
   "execution_count": 10,
   "id": "a0c21c43",
   "metadata": {},
   "outputs": [],
   "source": [
    "#Tokenice the text\n",
    "def tokenizations(mail):\n",
    "    \n",
    "    ret=nltk.word_tokenize(mail)\n",
    "            \n",
    "    return (ret)"
   ]
  },
  {
   "cell_type": "code",
   "execution_count": 11,
   "id": "340f71f5",
   "metadata": {},
   "outputs": [],
   "source": [
    "#remove stopwords\n",
    "def remove_stopwords(mail):\n",
    "    stopwords_var=set(stopwords.words('english'))\n",
    "    ret=[]\n",
    "    for elem in mail:\n",
    "        if (elem not in stopwords_var):\n",
    "            ret.append(elem)\n",
    "    return (ret)"
   ]
  },
  {
   "cell_type": "code",
   "execution_count": 12,
   "id": "8799c3d8",
   "metadata": {},
   "outputs": [],
   "source": [
    "#Stemmer\n",
    "def stemming(mail):\n",
    "    stemmer_var=SnowballStemmer('english')\n",
    "    ret=[]\n",
    "    for elem in mail:\n",
    "        ret.append(stemmer_var.stem(elem))\n",
    "    return (ret)"
   ]
  },
  {
   "cell_type": "code",
   "execution_count": 13,
   "id": "be98a612",
   "metadata": {
    "scrolled": false
   },
   "outputs": [],
   "source": [
    "#data treatment\n",
    "df['mail']= df.apply(lambda elem: clean_up(elem['mail']),axis=1)\n",
    "df['mail']= df.apply(lambda elem: tokenizations(elem['mail']),axis=1)\n",
    "df['mail']= df.apply(lambda elem: remove_stopwords(elem['mail']),axis=1)\n",
    "df['mail']= df.apply(lambda elem: stemming(elem['mail']),axis=1)\n",
    "\n",
    "#elem=df.iloc[0]['mail']\n",
    "#print(elem)"
   ]
  },
  {
   "cell_type": "code",
   "execution_count": 14,
   "id": "43c7abff",
   "metadata": {},
   "outputs": [],
   "source": [
    "\n",
    "list_mail=[]\n",
    "for i in df['mail']:\n",
    "    list_mail.append(\" \".join(i))\n"
   ]
  },
  {
   "cell_type": "code",
   "execution_count": 15,
   "id": "168b03f4",
   "metadata": {},
   "outputs": [],
   "source": [
    "from sklearn.feature_extraction.text import CountVectorizer\n",
    "from sklearn.model_selection import train_test_split\n",
    "from sklearn.naive_bayes import MultinomialNB\n",
    "from sklearn import metrics"
   ]
  },
  {
   "cell_type": "code",
   "execution_count": 16,
   "id": "779aeb9d",
   "metadata": {},
   "outputs": [],
   "source": [
    "#Create the bag of words\n",
    "bag_of_words=CountVectorizer().fit_transform(list_mail)\n",
    "\n",
    "#df_new = pd.DataFrame(bag_of_words)"
   ]
  },
  {
   "cell_type": "code",
   "execution_count": 22,
   "id": "22f93ae9",
   "metadata": {},
   "outputs": [],
   "source": [
    "#Split the data. 70% for training 30% for test\n",
    "\n",
    "x_train, x_test, y_train, y_test = train_test_split(bag_of_words, df['spam'].astype('int'), test_size=0.30, random_state=0)"
   ]
  },
  {
   "cell_type": "code",
   "execution_count": 23,
   "id": "319553d4",
   "metadata": {},
   "outputs": [
    {
     "data": {
      "text/plain": [
       "(5552, 135386)"
      ]
     },
     "execution_count": 23,
     "metadata": {},
     "output_type": "execute_result"
    }
   ],
   "source": [
    "bag_of_words.shape"
   ]
  },
  {
   "cell_type": "code",
   "execution_count": 25,
   "id": "a86916e7",
   "metadata": {},
   "outputs": [
    {
     "data": {
      "text/plain": [
       "MultinomialNB()"
      ]
     },
     "execution_count": 25,
     "metadata": {},
     "output_type": "execute_result"
    }
   ],
   "source": [
    "#Use Multinomial Naive Bayes\n",
    "mnb = MultinomialNB()\n",
    "mnb.fit(x_train,y_train)\n"
   ]
  },
  {
   "cell_type": "code",
   "execution_count": 29,
   "id": "0f84742d",
   "metadata": {},
   "outputs": [
    {
     "name": "stdout",
     "output_type": "stream",
     "text": [
      "              precision    recall  f1-score   support\n",
      "\n",
      "           0       0.97      1.00      0.98      2697\n",
      "           1       0.99      0.94      0.96      1189\n",
      "\n",
      "    accuracy                           0.98      3886\n",
      "   macro avg       0.98      0.97      0.97      3886\n",
      "weighted avg       0.98      0.98      0.98      3886\n",
      "\n",
      "Confusion matrix:\n",
      "[[2689    8]\n",
      " [  74 1115]]\n",
      "Accuracy:\n",
      "0.9788986103962944\n"
     ]
    }
   ],
   "source": [
    "prediction=mnb.predict(x_train)\n",
    "\n",
    "print(metrics.classification_report(y_train,prediction))\n",
    "print(\"Confusion matrix:\")\n",
    "print(metrics.confusion_matrix(y_train,prediction))\n",
    "print(\"Accuracy:\")\n",
    "print(metrics.accuracy_score(y_train,prediction))"
   ]
  },
  {
   "cell_type": "code",
   "execution_count": 31,
   "id": "50243575",
   "metadata": {},
   "outputs": [
    {
     "name": "stdout",
     "output_type": "stream",
     "text": [
      "              precision    recall  f1-score   support\n",
      "\n",
      "           0       0.97      0.99      0.98      1161\n",
      "           1       0.97      0.92      0.95       505\n",
      "\n",
      "    accuracy                           0.97      1666\n",
      "   macro avg       0.97      0.96      0.96      1666\n",
      "weighted avg       0.97      0.97      0.97      1666\n",
      "\n",
      "Confusion matrix:\n",
      "[[1148   13]\n",
      " [  38  467]]\n",
      "Accuracy:\n",
      "0.9693877551020408\n"
     ]
    }
   ],
   "source": [
    "#Lets test the test data\n",
    "\n",
    "prediction_test=mnb.predict(x_test)\n",
    "\n",
    "print(metrics.classification_report(y_test, prediction_test))\n",
    "print(\"Confusion matrix:\")\n",
    "print(metrics.confusion_matrix(y_test, prediction_test))\n",
    "print(\"Accuracy:\")\n",
    "print(metrics.accuracy_score(y_test, prediction_test))"
   ]
  },
  {
   "cell_type": "code",
   "execution_count": null,
   "id": "015c9aea",
   "metadata": {},
   "outputs": [],
   "source": []
  }
 ],
 "metadata": {
  "kernelspec": {
   "display_name": "Python 3",
   "language": "python",
   "name": "python3"
  },
  "language_info": {
   "codemirror_mode": {
    "name": "ipython",
    "version": 3
   },
   "file_extension": ".py",
   "mimetype": "text/x-python",
   "name": "python",
   "nbconvert_exporter": "python",
   "pygments_lexer": "ipython3",
   "version": "3.8.8"
  }
 },
 "nbformat": 4,
 "nbformat_minor": 5
}
