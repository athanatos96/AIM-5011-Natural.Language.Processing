{
  "nbformat": 4,
  "nbformat_minor": 0,
  "metadata": {
    "colab": {
      "name": "Copia de M2_Assignment_Part_II.ipynb",
      "provenance": [],
      "collapsed_sections": [],
      "toc_visible": true
    },
    "kernelspec": {
      "name": "python3",
      "display_name": "Python 3"
    },
    "language_info": {
      "name": "python"
    },
    "accelerator": "GPU"
  },
  "cells": [
    {
      "cell_type": "markdown",
      "metadata": {
        "id": "AQ7DMQe6ynxH"
      },
      "source": [
        "##Part II:  Machine Learning and Deep Neural Networks with NLP\n",
        "\n",
        "Next we will move to Machine Learning Models and the Introduction of Deep Neural networks for NLP. \n",
        "\n",
        "In this section, we will cover: \n",
        "\n",
        "\n",
        "1.   Refresher on Machine Learning and Shallow Learning Approach\n",
        "2.   Introduction to Neural Networks and Deep Learning\n",
        "3.   Sequence Models with Neural Networks\n",
        "\n",
        "## Setup\n",
        "As part of completing the assignment, you will see that there are areas in the note book for you to complete your own coding input. \n",
        "\n",
        "It will be look like following: \n",
        "```\n",
        "### START CODE HERE (REPLACE INSTANCES OF 'None' with your code) ###\n",
        "'Some coding activity for you to complete'\n",
        "### END CODE HERE ###\n",
        "\n",
        "```\n",
        "Please be sure to fill these code snippets out as you turn in your assignment."
      ]
    },
    {
      "cell_type": "markdown",
      "metadata": {
        "id": "B2gM5VJY33wG"
      },
      "source": [
        "### 2.1 Machine Learning for NLP\n",
        "Recall that we can use our techniques to create predictive algorithms and solve common NLP tasks/goals such as sentiment analysis, text summarization, question-answering, etc. These tasks, you will find, are greatly improved with Deep Learning and Neural Networks. \n",
        "\n",
        "\n",
        "![Artificial Intelligence](https://drive.google.com/uc?export=view&id=1cMW6E4PiVPvxvlfS7IxrBNkv2byAelXy)\n",
        "\n",
        "\n",
        "Before move towards understanding the NN used for NLP, let's briefly refresh our understanding of Machine Learning, or shallow learning techniques. \n",
        "\n",
        "There are several fundamental steps to any Machine Learning algorithm. Typically, they follow these steps below. \n",
        "\n",
        "![basic ML](https://drive.google.com/uc?export=view&id=1cNhv3qDj_j8Mvga274azmRYJ0LzC2bxx)\n",
        "\n",
        "One of the most common use cases is classification of data. We use a supervised machine learning model where some body of text are classified or labeled. may create an input vector that we must use feature engineering techniques as an input to the ML algorithm. This often means altering the data and making assumptions about the variables in the data that we believe are most pertinent to the predictability of the data. An example is the Naive Bayes and Bag-of-Words representation. \n",
        "\n",
        "To train a model -- for example, training a logistic regression model to determine whether or not a movie review is positive or negative, for example-- we split the labeled data into a training and test sets. First, we will run the algorithm on the training test data, and then evaluate its efficacy. Then, we run the test dataset through the model to evaluate its performance. \n",
        "\n",
        "As we evaluate the performance of the model, we tune \"hyperparameters\". Hyperparameters are inputs to our model that have an influence on the models' performance. They are most often inputs by humans and determined through a series of heuristics and they result in estimates to the model parametters. For example, the percentage of data split between a training and test set is a heuristic -- or rule of thumb-- where we often choose 80% of the labeled data to train our model, and 20% to test it. \n",
        "\n"
      ]
    },
    {
      "cell_type": "markdown",
      "metadata": {
        "id": "niCiauS44zRm"
      },
      "source": [
        "#### 2.1.1 Example: ML Approach with NLP - Sentiment Analysis Using Bag-of-Words\n",
        "We often call the Naïve Bayes classifier the bag-of-words approach. That’s because we are essentially throwing in the collection of words into a ‘bag’, selecting a word at random, and then calculating their frequency to use in the Bayesian Inference. Thus, context – the position of words -- is ignored and despite this, it turns out that the Naïve Bayes approach can be accurate and effective at determining whether an email is spam for example. \n"
      ]
    },
    {
      "cell_type": "markdown",
      "metadata": {
        "id": "iiAq2yoqEFci"
      },
      "source": [
        "###### 2.1.1.1 Load the Dataset and Inspect the data."
      ]
    },
    {
      "cell_type": "code",
      "metadata": {
        "colab": {
          "base_uri": "https://localhost:8080/"
        },
        "id": "1hAUE4tB45S2",
        "outputId": "eeeb814b-740f-41b6-8cd3-cfa63cfb4f7b"
      },
      "source": [
        "#from: https://alvinntnu.github.io/NTNU_ENC2045_LECTURES/nlp/ml-sklearn-classification.html#data-loading\n",
        "#import libraries\n",
        "import nltk, random\n",
        "nltk.download('movie_reviews')\n",
        "from nltk.corpus import movie_reviews\n",
        "import pandas as pd\n",
        "import matplotlib.pyplot as plt\n",
        "import numpy as np\n",
        "\n",
        "#Load the data from nltk.corpus.moviereviews\n",
        "print(len(movie_reviews.fileids()))\n",
        "print(movie_reviews.categories())\n",
        "print(movie_reviews.words()[:100])\n",
        "print(movie_reviews.fileids()[:10])\n",
        "\n",
        "#Rearrange the corpus data as a list of tuple, where the first element is the word tokens of the documents, \n",
        "#and the second element is the label of the documents (i.e., sentiment labels).\n",
        "documents = [(list(movie_reviews.words(fileid)), category)\n",
        "             for category in movie_reviews.categories()\n",
        "             for fileid in movie_reviews.fileids(category)]\n",
        "random.seed(123)\n",
        "random.shuffle(documents)\n",
        "\n",
        "#Describe the dataset\n",
        "print('Number of Reviews/Documents: {}'.format(len(documents)))  #Corpus Size (Number of Documents)\n",
        "print('Corpus Size (words): {}'.format(np.sum([len(d) for (d,l) in documents]))) #Corpus Size (Number of Words)\n",
        "print('Sample Text of Doc 1:') #Distribution of the Two Classes\n",
        "print('-'*30)\n",
        "print(' '.join(documents[0][0][:50])) # first 50 words of the first document\n",
        "\n",
        "## Check Sentiment Distribution of the Current Dataset\n",
        "from collections import Counter\n",
        "sentiment_distr = Counter([label for (words, label) in documents])\n",
        "print(sentiment_distr)"
      ],
      "execution_count": null,
      "outputs": [
        {
          "output_type": "stream",
          "name": "stdout",
          "text": [
            "[nltk_data] Downloading package movie_reviews to /root/nltk_data...\n",
            "[nltk_data]   Unzipping corpora/movie_reviews.zip.\n",
            "2000\n",
            "['neg', 'pos']\n",
            "['plot', ':', 'two', 'teen', 'couples', 'go', 'to', ...]\n",
            "['neg/cv000_29416.txt', 'neg/cv001_19502.txt', 'neg/cv002_17424.txt', 'neg/cv003_12683.txt', 'neg/cv004_12641.txt', 'neg/cv005_29357.txt', 'neg/cv006_17022.txt', 'neg/cv007_4992.txt', 'neg/cv008_29326.txt', 'neg/cv009_29417.txt']\n",
            "Number of Reviews/Documents: 2000\n",
            "Corpus Size (words): 1583820\n",
            "Sample Text of Doc 1:\n",
            "------------------------------\n",
            "most movies seem to release a third movie just so it can be called a trilogy . rocky iii seems to kind of fit in that category , but manages to be slightly unique . the rocky formula of \" rocky loses fight / rocky trains / rocky wins fight\n",
            "Counter({'pos': 1000, 'neg': 1000})\n"
          ]
        }
      ]
    },
    {
      "cell_type": "markdown",
      "metadata": {
        "id": "hh028orQEBbi"
      },
      "source": [
        "###### 2.1.1.2 Split the data into a training and testing set.\n",
        "\n",
        "Because in most of the ML steps, the feature sets and the labels are often separated as two units, we split our training data into X_train and y_train as the features (X) and labels (y) in training.\n",
        "\n",
        "Likewise, we split our testing data into X_test and y_test as the features (X) and labels (y) in testing."
      ]
    },
    {
      "cell_type": "code",
      "metadata": {
        "id": "JmmY9tMPEKei",
        "colab": {
          "base_uri": "https://localhost:8080/"
        },
        "outputId": "263698ff-0e59-48ef-8a86-3f9db9578345"
      },
      "source": [
        "from sklearn.model_selection import train_test_split\n",
        "train, test = train_test_split(documents, test_size = 0.33, random_state=42)\n",
        "## Sentiment Distrubtion for Train and Test\n",
        "print(Counter([label for (words, label) in train]))\n",
        "print(Counter([label for (words, label) in test]))\n",
        "\n",
        "X_train = [' '.join(words) for (words, label) in train]\n",
        "X_test = [' '.join(words) for (words, label) in test]\n",
        "y_train = [label for (words, label) in train]\n",
        "y_test = [label for (words, label) in test]"
      ],
      "execution_count": null,
      "outputs": [
        {
          "output_type": "stream",
          "name": "stdout",
          "text": [
            "Counter({'neg': 674, 'pos': 666})\n",
            "Counter({'pos': 334, 'neg': 326})\n"
          ]
        }
      ]
    },
    {
      "cell_type": "markdown",
      "metadata": {
        "id": "1zD53QhgHpLB"
      },
      "source": [
        "##### 2.1.1.3 Text Vectorization\n",
        "In feature-based machine learning, we need to vectorize texts into feature sets (i.e., feature engineering on texts).\n",
        "\n",
        "We use the naive bag-of-words text vectorization. In particular, we use the weighted version of BOW.\n",
        "\n"
      ]
    },
    {
      "cell_type": "code",
      "metadata": {
        "id": "ux7ShwsdHydx",
        "colab": {
          "base_uri": "https://localhost:8080/"
        },
        "outputId": "abf22e7f-618d-47e5-8728-ba34d73345a4"
      },
      "source": [
        "#Note: Always split the data into train and test first before vectorizing the texts. \n",
        "#Otherwise, you would leak information to the training process, which may lead to over-fitting\n",
        "\n",
        "from sklearn.feature_extraction.text import CountVectorizer, TfidfVectorizer\n",
        "\n",
        "tfidf_vec = TfidfVectorizer(min_df = 10, token_pattern = r'[a-zA-Z]+')\n",
        "X_train_bow = tfidf_vec.fit_transform(X_train) # fit train\n",
        "X_test_bow = tfidf_vec.transform(X_test) # transform test\n",
        "\n",
        "print(X_train_bow.shape)\n",
        "print(X_test_bow.shape)"
      ],
      "execution_count": null,
      "outputs": [
        {
          "output_type": "stream",
          "name": "stdout",
          "text": [
            "(1340, 6138)\n",
            "(660, 6138)\n"
          ]
        }
      ]
    },
    {
      "cell_type": "markdown",
      "metadata": {
        "id": "nzASDHmcH-Mj"
      },
      "source": [
        "##### 2.1.1.4 Model Selection and Cross Validation\n",
        "For our current binary sentiment classifier, we will try a few common classification algorithms:\n",
        "\n",
        "1.   Support Vector Machine\n",
        "2.   Decision Tree\n",
        "3.   Naive Bayes\n",
        "4.   Logistic Regression\n",
        "\n",
        "The common steps include:\n",
        "\n",
        "1.   We fit the model with our training data.\n",
        "2.   We check the model stability, using k-fold cross validation on the training data.\n",
        "3.   We use the fitted model to make prediction.\n",
        "4.   We evaluate the model prediction by comparing the predicted classes and the true labels."
      ]
    },
    {
      "cell_type": "markdown",
      "metadata": {
        "id": "hcwtL7asIgkJ"
      },
      "source": [
        "###### 2.1.1.5.1 Support Vector Machines"
      ]
    },
    {
      "cell_type": "code",
      "metadata": {
        "id": "Bw6wI3zoIm9K",
        "colab": {
          "base_uri": "https://localhost:8080/"
        },
        "outputId": "568fdd66-1983-4519-ed26-3e965dbd2920"
      },
      "source": [
        "from sklearn import svm\n",
        "\n",
        "model_svm = svm.SVC(C=8.0, kernel='linear')\n",
        "model_svm.fit(X_train_bow, y_train)\n",
        "\n",
        "from sklearn.model_selection import cross_val_score\n",
        "model_svm_acc = cross_val_score(estimator=model_svm, X=X_train_bow, y=y_train, cv=5, n_jobs=-1)\n",
        "model_svm_acc\n",
        "\n",
        "model_svm.predict(X_test_bow[:10])\n",
        "#print(model_svm.score(test_text_bow, test_label))"
      ],
      "execution_count": null,
      "outputs": [
        {
          "output_type": "execute_result",
          "data": {
            "text/plain": [
              "array(['pos', 'neg', 'pos', 'neg', 'neg', 'neg', 'neg', 'neg', 'neg',\n",
              "       'pos'], dtype='<U3')"
            ]
          },
          "metadata": {},
          "execution_count": 7
        }
      ]
    },
    {
      "cell_type": "markdown",
      "metadata": {
        "id": "qyVytywPIspy"
      },
      "source": [
        "###### 2.1.1.5.2 Decision Tree"
      ]
    },
    {
      "cell_type": "code",
      "metadata": {
        "id": "2Jf2pSbHIxdK",
        "colab": {
          "base_uri": "https://localhost:8080/"
        },
        "outputId": "668790a2-e1e9-48db-8f78-27675b670639"
      },
      "source": [
        "from sklearn.tree import DecisionTreeClassifier\n",
        "\n",
        "model_dec = DecisionTreeClassifier(max_depth=10, random_state=0)\n",
        "model_dec.fit(X_train_bow, y_train)\n",
        "\n",
        "model_dec_acc = cross_val_score(estimator=model_dec, X=X_train_bow, y=y_train, cv=5, n_jobs=-1)\n",
        "model_dec_acc\n",
        "\n",
        "model_dec.predict(X_test_bow[:10])"
      ],
      "execution_count": null,
      "outputs": [
        {
          "output_type": "execute_result",
          "data": {
            "text/plain": [
              "array(['pos', 'neg', 'neg', 'neg', 'pos', 'pos', 'neg', 'neg', 'neg',\n",
              "       'neg'], dtype='<U3')"
            ]
          },
          "metadata": {},
          "execution_count": 5
        }
      ]
    },
    {
      "cell_type": "markdown",
      "metadata": {
        "id": "eXlXXem9I18S"
      },
      "source": [
        "###### 2.1.1.5.3 Naive Bayes"
      ]
    },
    {
      "cell_type": "code",
      "metadata": {
        "id": "nsQcANavJNOa",
        "colab": {
          "base_uri": "https://localhost:8080/"
        },
        "outputId": "7d331e92-6fe0-438d-d425-816b24b400f7"
      },
      "source": [
        "from sklearn.naive_bayes import GaussianNB\n",
        "model_gnb = GaussianNB()\n",
        "model_gnb.fit(X_train_bow.toarray(), y_train)\n",
        "\n",
        "model_gnb_acc = cross_val_score(estimator=model_gnb, X=X_train_bow.toarray(), y=y_train, cv=5, n_jobs=-1)\n",
        "model_gnb_acc\n",
        "\n",
        "model_gnb.predict(X_test_bow[:10].toarray())"
      ],
      "execution_count": null,
      "outputs": [
        {
          "output_type": "execute_result",
          "data": {
            "text/plain": [
              "array(['pos', 'neg', 'neg', 'neg', 'neg', 'neg', 'neg', 'neg', 'neg',\n",
              "       'neg'], dtype='<U3')"
            ]
          },
          "metadata": {},
          "execution_count": 6
        }
      ]
    },
    {
      "cell_type": "markdown",
      "metadata": {
        "id": "OfXV3d8bJTLy"
      },
      "source": [
        "###### 2.1.1.5.3 Logistic Regression"
      ]
    },
    {
      "cell_type": "code",
      "metadata": {
        "id": "zuZrQlHUJPTW",
        "colab": {
          "base_uri": "https://localhost:8080/"
        },
        "outputId": "3df892bb-ab87-424a-a0c5-fe788ec4ff82"
      },
      "source": [
        "from sklearn.linear_model import LogisticRegression\n",
        "\n",
        "model_lg = LogisticRegression()\n",
        "model_lg.fit(X_train_bow, y_train)\n",
        "\n",
        "model_lg_acc = cross_val_score(estimator=model_lg, X=X_train_bow, y=y_train, cv=5, n_jobs=-1)\n",
        "model_lg_acc\n",
        "\n",
        "model_lg.predict(X_test_bow[:10].toarray())"
      ],
      "execution_count": null,
      "outputs": [
        {
          "output_type": "execute_result",
          "data": {
            "text/plain": [
              "array(['pos', 'neg', 'pos', 'neg', 'neg', 'pos', 'neg', 'neg', 'neg',\n",
              "       'pos'], dtype='<U3')"
            ]
          },
          "metadata": {},
          "execution_count": 8
        }
      ]
    },
    {
      "cell_type": "markdown",
      "metadata": {
        "id": "KpcXLgo_Jc0B"
      },
      "source": [
        "##### 2.1.1.3 Evaluation\n",
        "\n",
        "To evaluate each model’s performance, there are several common metrics in use:\n",
        "\n",
        "Precision\n",
        "\n",
        "1.   Precision\n",
        "2.   Recall\n",
        "3.   F-score\n",
        "4.   Accuracy\n",
        "5.   Confusion Matrix\n"
      ]
    },
    {
      "cell_type": "code",
      "metadata": {
        "id": "1VxDTvfVKXbD",
        "colab": {
          "base_uri": "https://localhost:8080/",
          "height": 717
        },
        "outputId": "0a23f4b3-49a2-4d69-9928-d308df8393b2"
      },
      "source": [
        "#Mean Accuracy\n",
        "print(model_svm.score(X_test_bow, y_test))\n",
        "print(model_dec.score(X_test_bow, y_test))\n",
        "print(model_gnb.score(X_test_bow.toarray(), y_test))\n",
        "print(model_lg.score(X_test_bow, y_test))\n",
        "\n",
        "# F1\n",
        "from sklearn.metrics import f1_score\n",
        "\n",
        "y_pred = model_svm.predict(X_test_bow)\n",
        "\n",
        "f1_score(y_test, y_pred, \n",
        "         average=None, \n",
        "         labels = movie_reviews.categories())\n",
        "\n",
        "from sklearn.metrics import confusion_matrix, plot_confusion_matrix\n",
        "\n",
        "plot_confusion_matrix(model_svm, X_test_bow, y_test, normalize='all')\n",
        "plot_confusion_matrix(model_lg, X_test_bow.toarray(), y_test, normalize='all')\n",
        "\n",
        "## try a whole new self-created review:)\n",
        "new_review =['This book looks soso like the content but the cover is weird',\n",
        "             'This book looks soso like the content and the cover is weird'\n",
        "            ]\n",
        "new_review_bow = tfidf_vec.transform(new_review)\n",
        "model_svm.predict(new_review_bow)\n"
      ],
      "execution_count": null,
      "outputs": [
        {
          "output_type": "stream",
          "name": "stdout",
          "text": [
            "0.8075757575757576\n",
            "0.65\n",
            "0.7015151515151515\n",
            "0.7954545454545454\n"
          ]
        },
        {
          "output_type": "stream",
          "name": "stderr",
          "text": [
            "/usr/local/lib/python3.7/dist-packages/sklearn/utils/deprecation.py:87: FutureWarning: Function plot_confusion_matrix is deprecated; Function `plot_confusion_matrix` is deprecated in 1.0 and will be removed in 1.2. Use one of the class methods: ConfusionMatrixDisplay.from_predictions or ConfusionMatrixDisplay.from_estimator.\n",
            "  warnings.warn(msg, category=FutureWarning)\n",
            "/usr/local/lib/python3.7/dist-packages/sklearn/utils/deprecation.py:87: FutureWarning: Function plot_confusion_matrix is deprecated; Function `plot_confusion_matrix` is deprecated in 1.0 and will be removed in 1.2. Use one of the class methods: ConfusionMatrixDisplay.from_predictions or ConfusionMatrixDisplay.from_estimator.\n",
            "  warnings.warn(msg, category=FutureWarning)\n"
          ]
        },
        {
          "output_type": "execute_result",
          "data": {
            "text/plain": [
              "array(['neg', 'neg'], dtype='<U3')"
            ]
          },
          "metadata": {},
          "execution_count": 12
        },
        {
          "output_type": "display_data",
          "data": {
            "image/png": "[encoded data removed]",
            "text/plain": [
              "<Figure size 432x288 with 2 Axes>"
            ]
          },
          "metadata": {
            "needs_background": "light"
          }
        },
        {
          "output_type": "display_data",
          "data": {
            "image/png": "[encoded data removed]",
            "text/plain": [
              "<Figure size 432x288 with 2 Axes>"
            ]
          },
          "metadata": {
            "needs_background": "light"
          }
        }
      ]
    },
    {
      "cell_type": "markdown",
      "metadata": {
        "id": "5Uc7yLN-KfN6"
      },
      "source": [
        "##### 2.1.1.4 Tuning Hyperparameters\n",
        "For each model, we have not optimized it in terms of its hyperparameter setting.\n",
        "\n",
        "Now that SVM seems to perform the best among all, we take this as our base model and further fine-tune its hyperparameter using cross-validation and Grid Search.\n",
        "\n"
      ]
    },
    {
      "cell_type": "code",
      "metadata": {
        "id": "hPZJnNT_KqI7",
        "colab": {
          "base_uri": "https://localhost:8080/"
        },
        "outputId": "55d833d0-f34f-40c7-8d71-5d8ae51fd69f"
      },
      "source": [
        "from sklearn.model_selection import GridSearchCV\n",
        "\n",
        "parameters = {'kernel': ('linear', 'rbf'), 'C': (1,4,8,16,32)}\n",
        "\n",
        "svc = svm.SVC()\n",
        "clf = GridSearchCV(svc, parameters, cv=10, n_jobs=-1) ## `-1` run in parallel\n",
        "clf.fit(X_train_bow, y_train)\n",
        "\n",
        "\n",
        "print(sorted(clf.cv_results_.keys()))\n",
        "\n",
        "#We can check the parameters that yield the most optimal results in the Grid Search:\n",
        "\n",
        "print(clf.best_params_)\n",
        "print(clf.score(X_test_bow, y_test))"
      ],
      "execution_count": null,
      "outputs": [
        {
          "output_type": "stream",
          "name": "stdout",
          "text": [
            "['mean_fit_time', 'mean_score_time', 'mean_test_score', 'param_C', 'param_kernel', 'params', 'rank_test_score', 'split0_test_score', 'split1_test_score', 'split2_test_score', 'split3_test_score', 'split4_test_score', 'split5_test_score', 'split6_test_score', 'split7_test_score', 'split8_test_score', 'split9_test_score', 'std_fit_time', 'std_score_time', 'std_test_score']\n",
            "{'C': 1, 'kernel': 'linear'}\n",
            "0.8106060606060606\n"
          ]
        }
      ]
    },
    {
      "cell_type": "markdown",
      "metadata": {
        "id": "QqTkIiXy45dG"
      },
      "source": [
        "### 2.2 Introduction to Neural Networks for NLP\n",
        "\n",
        "With the advancement of computational efficiency and resource availability combined with the availability of large amounts of data came the rising importance of Neural Networks and Deep Learning. Especially as it pertains to NLP. \n",
        "\n",
        "*What is Deep Learning?*\n",
        "Deep Learning is a type of machine learning based on artifical neaural networks in which multiple layers of processing are used to extract progressively higher levels of features from data. \n",
        "\n",
        "*What is used for?*\n",
        "Common segments of Deep Learning include NLP tasks, image processing, and time/sequence data analysis like predicting stock market trends or the weather. \n",
        "\n",
        "*How is it different from Machine Learning?*\n",
        "There are several differences (but a lot more in common). Primarily, neural networks enable models to learn non-linear decision boundaries instead of strict linear boundaries. Moreover, Deep Learning notorious does away with feature extraction and engineering. \n",
        "\n",
        "Non-linear decision boundaries compared to classical linear output for Machine Learning\n",
        "![Artificial Intelligence](https://drive.google.com/uc?export=view&id=1cUbV4UZDThbmcKsJKKQGsreEOmkWQSeS)\n",
        "\n",
        "ML vs DL\n",
        "![Artificial Intelligence](https://drive.google.com/uc?export=view&id=1cSP4uxjq-8IL8xRiDN5xRHveTNnPoHp1)\n",
        "\n"
      ]
    },
    {
      "cell_type": "markdown",
      "metadata": {
        "id": "wXgv2idTSh9X"
      },
      "source": [
        "#### 2.1.1 Types of Neural Networks\n",
        "There are several types of Neural Networks that can be used to achieve different predictive goals. For example, we commonly use Convolutional Neural Networks to process image tasks (or non-sequential tasks) and we use a very of Recurrent Neural Networks to complete sequence-based tasks like time series for stock predictions or translating a sentence from left to right. \n",
        "\n",
        "The following diagram shows the types of Networks that support sequential and non-sequential data. \n",
        "\n",
        "![Neural Networks](https://drive.google.com/uc?export=view&id=12Ixtwys-z3_vv1ema0xyonYOffAWn5p1)\n",
        "\n",
        "##### 2.1.2 Characteristics of the types of NN ([from Chen, 2020](https://alvinntnu.github.io/NTNU_ENC2045_LECTURES/nlp/dl-neural-network-from-scratch.html))\n",
        "\n",
        "*Multi-Layer Perceptron (Fully Connected Network)*\n",
        "*   Input Layer, one or more hidden layers, and output layer\n",
        "*  A hidden layer consists of neurons (perceptrons) which process certain aspect of the features and send the processed information into the next hidden layer.\n",
        "\n",
        "*Convolutional Neural Network (CNN)*\n",
        "*   Mainly for image and audio processing\n",
        "*   Convolution Layer, Pooling Layer, Fully Connected Layer\n",
        "\n",
        "*Recurrent Neural Network (RNN)*\n",
        "*   fully-connected networks do not remember the steps from previous situations and therefore do not learn to make decisions based on context in training.\n",
        "*  RNN stores the past information and all its decisions are taken from what it has learned from the past.\n",
        "*   RNN is effective in dealing with time-series data (e.g., text, speech).\n",
        "*   Preferred methods in NLP\n",
        "\n",
        "\n"
      ]
    },
    {
      "cell_type": "markdown",
      "metadata": {
        "id": "sTMKd5MhSqML"
      },
      "source": [
        "#### 2.1.2 Characteristics of the Neural Network\n",
        "\n",
        "The following image shows a basic forward propogation Neural Network![NN GIF](https://drive.google.com/uc?export=view&id=1cPN0fK69ncwFD-Idaesvc4LvSLDpHhbO)\n",
        "\n",
        "Generically, a Neural Network will include  (from Chen, 2020):\n",
        "\n",
        "*   **Forward Propagation**: the process of the model taking a series of inputs, manipulating and transforming them, running them through the hidden layers, and producing a predictive output layer. \n",
        "*   **Backward Propagation**: the process of comparing the outputs of the model and then updating the weights in your model to adjust for the observed output compared to the expected output (called loss). \n",
        "*   **Weights**: A vector of weights that are part of the \"hidden layer\". Weights are multiplied by the input layer or previous hidden layer to teach the model which neurons should be activated. Thus, they are an input into the neuron. The also get trained to be more accurate through backpropogation. \n",
        "*   **Neurons**: The component of the Neural Network that is its namesake!. This allow us to model non-linear relationships between input and output data.\n",
        "*   **Activation Functions**:  the activation function of a node determines whether the node would activate the output given the weighted sum of the input values.\n",
        "*   **Nodes to Layers**: neural network can be defined in terms of depths and widths of its layers\n",
        "*   **Layer, Parameters, and Matrix Mutiplication**: Each layer transforms the input values into the output values based on its layer parameters.\n",
        "*   **Hyperparameters**: similar to ML, these are typically human inputs to the model to refine the models predictive efficacy. \n",
        "*   **Loss Function**: If the target ouputs are numeric values, we can evaluate the errors. The loss function (termed cross entropy) represents the function of showing the actual distance of the observed output against the expected output. We can use this information to update our network to be better at predicting in our backpropogation process. \n",
        "*   **Learning Rate and Gradient Descent**: Using the Loss Function, we can now perform the most important step in model training — adjusting the weights (i.e., parameters) of the model. This optimization method to finding a combination of weights that minimize the loss function. The learning rate is a hyperparameter that controls how fast the model learns. \n",
        "\n",
        "\n",
        "\n",
        "\n",
        "\n",
        "\n"
      ]
    },
    {
      "cell_type": "markdown",
      "metadata": {
        "id": "a-3O5oiq5FBO"
      },
      "source": [
        "#### 2.2.3 Example: Neural Network Approach for NLP\n",
        "\n",
        "Please refer (here) [https://alvinntnu.github.io/NTNU_ENC2045_LECTURES/nlp/dl-sentiment-case.html#prepare-data] for an example of NLP using various types of Neural Networks., "
      ]
    },
    {
      "cell_type": "markdown",
      "metadata": {
        "id": "6O4qWBwE5PXe"
      },
      "source": [
        "### 2.3 Introduction to Recurrent Neural Networks\n",
        "\n",
        "Recurrent neural network (RNN) \"contains loops, allowing information to be stored within the network. In short, Recurrent Neural Networks use their reasoning from previous experiences to inform the upcoming events.\"\n",
        "\n",
        "A common example of an RNN is machine translation. For example, the *sequence* of the sentence is used to translate from one language to another.\n",
        "\n",
        "\n",
        "See the image below of the RNN Formula:\n",
        "\n",
        "![Neural Networks](https://drive.google.com/uc?export=view&id=12OLUdjs-cDP--rRVU2DziuiWUYKUiruw)\n",
        "\n",
        "See additional the different types of RNNs:![Neural Networks](https://drive.google.com/uc?export=view&id=12MRBEOEukvOzkZt6yvcQJwDwrHSj18dh)\n",
        "\n",
        "Please read the following for a great Illustrated Guide to [Recurrent Neural Networks](https://towardsdatascience.com/illustrated-guide-to-recurrent-neural-networks-79e5eb8049c9)\n"
      ]
    },
    {
      "cell_type": "markdown",
      "metadata": {
        "id": "j8VbcnhR5Wqe"
      },
      "source": [
        "### 2.4 Exercise: Neural Network for NLP\n",
        "\n",
        "Use the Brown corpus (nltk.corpus.brown) to create a trigram-based neural language model.\n",
        "\n",
        "Please use the language model to generate 50-word text sequences using the seed text “The news”. Provide a few examples from your trained model.\n",
        "\n",
        "A few important notes in data preprocessing:\n",
        "\n",
        "When preparing the input sequences of trigrams for model training, please make sure the trigram does not span across “sentence boundaries”. You can utilize the sentence tokenization annotations provided by the ntlk.corpus.brown.sents().\n",
        "\n",
        "The neural language model will be trained based on all trigrams that fulfill the above criterion in the entire Brown corpus.\n",
        "\n",
        "When you use your trigram-based neural language model to generate sequences, please add randomness to the sampling of the next word. If you always ask the language model to choose the next word of highest predicted probability value, your text would be very repetitive. \n",
        "\n",
        "Please provide your code response in the cell below: \n"
      ]
    },
    {
      "cell_type": "code",
      "metadata": {
        "id": "rtfFHTn75dSu",
        "colab": {
          "base_uri": "https://localhost:8080/"
        },
        "outputId": "ad7a4970-d47e-4e94-80cf-82de5a3162f5"
      },
      "source": [
        "### START CODE HERE (REPLACE INSTANCES OF 'None' with your code) ###\n",
        "import pandas as pd                        # Python library for pandas - data maniplation\n",
        "import numpy as np                         # Python library for numpy -- matrix algebra library\n",
        "from numpy.random import choice\n",
        "import matplotlib                          # Python library for matplotlib -- visual display of data\n",
        "import matplotlib.pyplot as plt            # Python library for matplotlib -- visual display of data\n",
        "import nltk                                # Python library for NLP\n",
        "import re                                  # library for regular expression operations\n",
        "import string                              # for string operations\n",
        "\n",
        "nltk.download('brown')                 # package for stop words\n",
        "from nltk.corpus import brown              # this is the corpus you use for this exercise. \n",
        "from sklearn.feature_extraction.text import CountVectorizer\n",
        "\n",
        "##################################################################################################################\n",
        "##################################################################################################################\n",
        "n_len=50              # Lenght of prediction\n",
        "start_str=\"The news\"  # Start of String\n",
        "n_prints=5            # Number of String Created\n",
        "\n",
        "sample_size=10000     # Number of samples for the brown dataset\n",
        "##################################################################################################################\n",
        "##################################################################################################################\n",
        "\n",
        "#The seed() method is used to initialize the random number generator\n",
        "np.random.seed(100)\n",
        "\n",
        "brown_cat= brown.categories() # Creates a list of categories\n",
        "\n",
        "docs=[] \n",
        "for cat in brown_cat: # We append tuples of each document and categories in a list\n",
        "    t1=brown.sents(categories=cat) # At each iteration we retrieve all documents of a given category\n",
        "    for doc in t1:\n",
        "        docs.append(' '.join(doc)) # These documents are appended as a tuple (document, category) in the list\n",
        "brown_df=pd.DataFrame(docs, columns=['sentence']) #The data frame is created using the generated tuple.\n",
        "\n",
        "#brown_df.head()\n",
        "\n",
        "sample_brown_df=brown_df.sample(n=sample_size, random_state=1).reset_index(drop=True) # Select 10.000 random records from corpus with a seed of 1\n",
        "\n",
        "#Step 1. Pre-Processing the Brown Corpus Text\n",
        "def normalize_document(doc):\n",
        "    # lower case and remove special characters\\whitespaces\n",
        "    doc = re.sub(r'[^a-zA-Z\\s]', '', doc, re.I | re.A)\n",
        "    doc = doc.lower()\n",
        "    doc = doc.strip()\n",
        "    return doc\n",
        "normalize_corpus = np.vectorize(normalize_document)\n",
        "norm_corpus = normalize_corpus(np.array(sample_brown_df[\"sentence\"]))\n",
        "#norm_corpus=sample_brown_df[\"sentence\"]\n",
        "\n",
        "#Step 2. Create a tri-gram data frame and count its frequencies\n",
        "bv = CountVectorizer(ngram_range=(3, 3))\n",
        "bv_matrix = bv.fit_transform(norm_corpus)\n",
        "\n",
        "#Create dataframe to show the tri-gram BOW\n",
        "bv_matrix = bv_matrix.toarray()\n",
        "vocab = bv.get_feature_names()\n",
        "df_bow_3=pd.DataFrame(bv_matrix, columns=vocab)\n",
        "df_bow_3# Print Matrix\n",
        "\n",
        "df=pd.DataFrame(df_bow_3.sum(),columns=[\"Count\"])# Count all the appearances of each 3-gram\n",
        "df# Print new Matrix\n",
        "\n",
        "\"\"\"\n",
        "Function that predicts the next word base on the df_filler.\n",
        "df_filler is a dataframe with all the valid trigrams at a point. Base on the last 2 words from the text\n",
        "This function randomly selects a trigram, based on occurrence frequency. (So more frequent trigrams get picked more often)\n",
        "\n",
        "Return the last word of the selected trigram\n",
        "If there is no valid trigram it Returns ''\n",
        "\"\"\"\n",
        "def predict_next_word(df_filter):\n",
        "  n_3grams=df_filter.shape[0] # Get the nº of trigrams\n",
        "  if(n_3grams==0): # if there are no valid trigrams, the program dont know what to return\n",
        "    return(\"\\'\\'\") # Return a ''\n",
        "\n",
        "  n_total=df_filter[\"Count\"].sum() # nº of total appearances of the trigrams\n",
        "  prob=df_filter[\"Count\"]/n_total # Get a list of probabilities\n",
        "  list_trigrams=df_filter.index.values.tolist() # Get list of trigrams\n",
        "  randomTrigram = choice(list_trigrams, 1, p=prob) # Get a Random trigram base on the probabilities\n",
        "  return(randomTrigram.tolist().pop().split()[2]) # Get the last word of the trigram as the prediction\n",
        "\n",
        "\"\"\"\n",
        "Function that create a Regex expresion used to search for the valid trigrams\n",
        "The Regex expresion is created based on the last2words list.\n",
        "last2words consist of a list of the last 2 words\n",
        "\n",
        "If both words are not ''  Returns: ||^word1 word2 ||\n",
        "If both words are ''      Returns: ||[a-z]||\n",
        "If the First word is ''   Returns: || word2 ||\n",
        "If the Second word is ''  Returns: ||^word1 ||\n",
        "\"\"\"\n",
        "def getRegex(last2words):\n",
        "  if (\"\\'\\'\" not in last2words):                          # There are no ''\n",
        "    return((\"^\" + (' '.join(last2words)) + \" \").lower())    # Regex:||^word1 word2 ||\n",
        "  elif(last2words[0]==\"\\'\\'\" and last2words[1]==\"\\'\\'\"):  # Both are ''\n",
        "    return(\"[a-z]\")                                         # Regex:||everything with letters|| --> Every trigram gets fulfill\n",
        "  elif(last2words[0]==\"\\'\\'\"):                            # Just the first word is ''\n",
        "    return((\" \"+ last2words[1] + \" \").lower())              # Regex:|| word2 ||\n",
        "  elif(last2words[1]==\"\\'\\'\"):                            # Just the second word is ''\n",
        "    return((\"^\"+ last2words[0] + \" \").lower())              # Regex:||^word1 ||\n",
        "\n",
        "\"\"\"\n",
        "Prints 'n_prints' number of 'n_len'-word text sequences, base on seed 'start_str'\n",
        "The predictions are base on the Trigrams\n",
        "If it dont know what the next word is. The prediction is a ''\n",
        "\n",
        "\"\"\"\n",
        "for i in range(n_prints):\n",
        "  text=start_str.split()\n",
        "  for j in range(n_len):\n",
        "    last2words=text[-2:] # Get last 2 words\n",
        "    regex_last2words=getRegex(last2words) # Get the Regex expresion\n",
        "    df_filter=df.filter(regex=(regex_last2words), axis=0) # Get the tri-grams that fulfill the Regex Expresion\n",
        "    prediction=predict_next_word(df_filter) # Predict the next word base on the Tri-grams\n",
        "    #print(\"prediction: \",prediction)\n",
        "    text.append(prediction) \n",
        "  print(\" \")\n",
        "  print(\"Iteration: \",i)\n",
        "  print(' '.join(text))\n",
        "  print(\" \")\n",
        "### END CODE HERE ###"
      ],
      "execution_count": 1,
      "outputs": [
        {
          "output_type": "stream",
          "name": "stdout",
          "text": [
            "[nltk_data] Downloading package brown to /root/nltk_data...\n",
            "[nltk_data]   Unzipping corpora/brown.zip.\n"
          ]
        },
        {
          "output_type": "stream",
          "name": "stderr",
          "text": [
            "/usr/local/lib/python3.7/dist-packages/sklearn/utils/deprecation.py:87: FutureWarning: Function get_feature_names is deprecated; get_feature_names is deprecated in 1.0 and will be removed in 1.2. Please use get_feature_names_out instead.\n",
            "  warnings.warn(msg, category=FutureWarning)\n"
          ]
        },
        {
          "output_type": "stream",
          "name": "stdout",
          "text": [
            " \n",
            "Iteration:  0\n",
            "The news that spring is in an age of two blocks with motor and pulley at rate of return among the cultured elements of the game and its accompaniment '' '' need some at least one area than ever with arms and more intensive management of timber resources will assist in reduction\n",
            " \n",
            " \n",
            "Iteration:  1\n",
            "The news he would turn blind for an experience that had been anemic with the objective of american politics is always high in communion with god in his wide calloused hands '' what it is not conclusion one must distinguish different types of evaluation and so forth '' still and he said\n",
            " \n",
            " \n",
            "Iteration:  2\n",
            "The news he would clatter out of the ogden standard examiner went to work with general merchandising and wholesale firm in new york city the system is to grasp the feelings of frustration exasperation exhaustion and even doting palates tire of them pretty good at that distance with no change of clothing\n",
            " \n",
            " \n",
            "Iteration:  3\n",
            "The news to hettie then stopped barred from me the feeling gave me equivalent and even does resounding job slapping his own father '' been building statesponsored vocational education programs or funds for the editorial by omitting the words matter and at the international show this year am told the skyjackers the\n",
            " \n",
            " \n",
            "Iteration:  4\n",
            "The news that such unlikely synonyms as pratakku sweathruna and the support necessary to understand poor george '' cherry tree '' wash wheel and shouted to hez who was cursing loudly and trying to yank them loose '' saying stop screaming quint '' blame maggie for disbelieving '' '' if you are\n",
            " \n"
          ]
        }
      ]
    },
    {
      "cell_type": "markdown",
      "metadata": {
        "id": "tQ-mO2xjtjbd"
      },
      "source": [
        "Examples of the 50-word text sequences created by the language model:\n",
        "\n",
        "```\n",
        "The news that was the first time was that the public interest in the first time he was '' and the in the of the state to the of the world of these theories '' and a few days '' he said that a note of the characteristics of the time of\n",
        "\n",
        "\n",
        "The news of rayburn's commitment well known that mine '' he said '' he said he was in his own life and of the most part of the women have been the of her and mother '' said mrs buck have not been as a result of a group of the and\n",
        "\n",
        "\n",
        "The news that is the basic truth in the next day to relax the emotional stimulation and fear that the author of the western world '' and said it was not a little more than the most of the state of the quarrel obtained a qualification that most of these forces as\n",
        "\n",
        "\n",
        "The news and a little of the time we are never trying to find out what he has a small boy and a series of a new crisis the book was not a tax bill was not at the time of the white house would be to the extent to which he\n",
        "\n",
        "\n",
        "The news of the church must be well to the extent of the most important element of the '' the end of the whole world '' he said he was in the of the '' of the and of the state of the is the of his new ideas that had been\n",
        "```"
      ]
    },
    {
      "cell_type": "markdown",
      "metadata": {
        "id": "3ruAxznty058"
      },
      "source": [
        "##A. References\n",
        "\n",
        "1.   Chapter 7 – Neural Networks. Daniel Jurafsky & James H. Martin. Copyright © 2021. All rights reserved. Draft of September 21, 2021.\n",
        "2.   [Word2vec from Scratch with NumPy](https://towardsdatascience.com/word2vec-from-scratch-with-numpy-8786ddd49e72)\n",
        "3.   [A hands=on intutive approach to Deep Learning Methods for Text Data - Word2Vec,GloVe and FastText](https://towardsdatascience.com/understanding-feature-engineering-part-4-deep-learning-methods-for-text-data-96c44370bbfa)\n",
        "4.    [Traditional Methods for Text Data](https://towardsdatascience.com/understanding-feature-engineering-part-3-traditional-methods-for-text-data-f6f7d70acd41)\n",
        "5.    [Word Embeddings](https://colab.research.google.com/github/tensorflow/text/blob/master/docs/guide/word_embeddings.ipynb#scrollTo=Q6mJg1g3apaz)\n",
        "6. [CS 224D: Deep Learning for NLP](https://cs224d.stanford.edu/lecture_notes/LectureNotes1.pdf)\n",
        "7. [Text Vectorization](https://alvinntnu.github.io/NTNU_ENC2045_LECTURES/nlp/text-vec-traditional.html) \n",
        "8. [Brown Corpus](https://en.wikipedia.org/wiki/Brown_Corpus)\n",
        "9. [TF-IDF](https://ethen8181.github.io/machine-learning/clustering_old/tf_idf/tf_idf.html)\n",
        "10. [Applying TF-IDF algorithm in practice](https://plumbr.io/blog/programming/applying-tf-idf-algorithm-in-practice)\n",
        "11. [text2vec](http://text2vec.org/similarity.html)\n",
        "12. [Difference between a parameter and a hyperparameter](https://machinelearningmastery.com/difference-between-a-parameter-and-a-hyperparameter/)\n",
        "13. [Sentiment Analysis Using Bag-of-Words](https://alvinntnu.github.io/NTNU_ENC2045_LECTURES/nlp/ml-sklearn-classification.html)\n",
        "14. [LIME of words: interpreting Recurrent Neural Networks predictions](https://data4thought.com/deep-lime.html)\n",
        "15. [Deepai.org](https://deepai.org/machine-learning-glossary-and-terms/recurrent-neural-network)"
      ]
    }
  ]
}